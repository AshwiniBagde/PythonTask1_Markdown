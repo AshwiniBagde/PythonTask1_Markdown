{
 "cells": [
  {
   "cell_type": "markdown",
   "id": "01e0d2ac-fc33-4319-8b71-199729125614",
   "metadata": {},
   "source": [
    "# 1.Headings"
   ]
  },
  {
   "cell_type": "raw",
   "id": "8a4b4d4c-3fa1-4cdd-8d8b-5a8b597c1a65",
   "metadata": {},
   "source": [
    "# This is Heading 1"
   ]
  },
  {
   "cell_type": "markdown",
   "id": "8081508f-5678-4cac-9db7-188b0069b6b8",
   "metadata": {},
   "source": [
    "# This is Heading 1"
   ]
  },
  {
   "cell_type": "raw",
   "id": "a9c34ca2-4a47-4f8b-9525-facde6e5a7df",
   "metadata": {},
   "source": [
    "## This is Heading 2"
   ]
  },
  {
   "cell_type": "markdown",
   "id": "7b918561-021b-4489-956f-e054a3cce30f",
   "metadata": {},
   "source": [
    "## This is Heading 2"
   ]
  },
  {
   "cell_type": "raw",
   "id": "d579f0b3-6bfe-4c5d-9915-58c9b2feaa28",
   "metadata": {},
   "source": [
    "### This is  Heading 3"
   ]
  },
  {
   "cell_type": "markdown",
   "id": "9a401bee-82f5-47e5-9842-1427177296ad",
   "metadata": {},
   "source": [
    "### This is Heading 3"
   ]
  },
  {
   "cell_type": "raw",
   "id": "c12c3a5b-dfe1-4d19-8b66-fac91fac364d",
   "metadata": {},
   "source": [
    "#### This is Heading 4"
   ]
  },
  {
   "cell_type": "markdown",
   "id": "ce4d50e0-3190-4ad6-89ed-e95bf3b247f1",
   "metadata": {},
   "source": [
    "#### This is Heading 4"
   ]
  },
  {
   "cell_type": "raw",
   "id": "c522206c-3f82-47d5-824f-c975f2b9525f",
   "metadata": {},
   "source": [
    "##### This is Heading 5"
   ]
  },
  {
   "cell_type": "markdown",
   "id": "55eece96-ee56-4726-8310-7eeb5059bc4b",
   "metadata": {},
   "source": [
    "##### This is Heading 5"
   ]
  },
  {
   "cell_type": "raw",
   "id": "66d40e62-9302-4e90-8e2a-bc1e53523fd0",
   "metadata": {},
   "source": [
    "###### This is Heading 6"
   ]
  },
  {
   "cell_type": "markdown",
   "id": "167599ba-7f0f-4055-ba71-d582ae0b6ac4",
   "metadata": {},
   "source": [
    "###### This is Heading 6"
   ]
  },
  {
   "cell_type": "markdown",
   "id": "551e57f4-188c-4833-ac74-12163fe432de",
   "metadata": {},
   "source": [
    "# 2. Emphasis (Bold, Italic, Strikethrough)"
   ]
  },
  {
   "cell_type": "raw",
   "id": "cbd65f23-7b80-4bee-8c62-e5386707e2eb",
   "metadata": {},
   "source": [
    "*This is Italics*  or  _This is Italics_"
   ]
  },
  {
   "cell_type": "markdown",
   "id": "ce0808e8-21c1-4f04-b2ba-8de02110ac16",
   "metadata": {},
   "source": [
    "*This is Italics*  or   _This is Italics_"
   ]
  },
  {
   "cell_type": "raw",
   "id": "7a5b6bdf-5a3d-4dc0-8892-548b86f55da6",
   "metadata": {},
   "source": [
    "**This is Bold**  or  __This is Bold__"
   ]
  },
  {
   "cell_type": "markdown",
   "id": "109cd2ca-827f-4102-b45a-ac0b7da695cd",
   "metadata": {},
   "source": [
    "**This is Bold**  or  __This is Bold__"
   ]
  },
  {
   "cell_type": "raw",
   "id": "a1b4fe54-2f7f-4747-b965-b6152130cd39",
   "metadata": {},
   "source": [
    "~~Strikethrough~~"
   ]
  },
  {
   "cell_type": "markdown",
   "id": "789ba5d7-b274-4105-a1c3-9e7f7c45c8e5",
   "metadata": {},
   "source": [
    "~~Strikethrough~~"
   ]
  },
  {
   "cell_type": "raw",
   "id": "0d38f66c-6e73-4a74-bb34-fb1a9bbecdc1",
   "metadata": {},
   "source": [
    "**_Bold italic_**"
   ]
  },
  {
   "cell_type": "markdown",
   "id": "8b220f95-2965-485f-b0d1-e20257c03d45",
   "metadata": {},
   "source": [
    "**_Bold italic_**"
   ]
  },
  {
   "cell_type": "markdown",
   "id": "d6eade11-122e-46c2-8119-30d30ac8ffa9",
   "metadata": {},
   "source": [
    "# 3. Bullet Points"
   ]
  },
  {
   "cell_type": "raw",
   "id": "7bc7744e-8125-4039-8150-9034097d6137",
   "metadata": {},
   "source": [
    "### This is bullet points\n",
    "* point 1\n",
    "* point 2"
   ]
  },
  {
   "cell_type": "markdown",
   "id": "9b642f8a-73c9-491c-831e-a119edde3434",
   "metadata": {},
   "source": [
    "### This is bullet points\n",
    "* point 1\n",
    "* point 2"
   ]
  },
  {
   "cell_type": "markdown",
   "id": "4261c029-ee46-4207-84f9-e21c9b61e3f3",
   "metadata": {},
   "source": [
    "# 4. Links"
   ]
  },
  {
   "cell_type": "markdown",
   "id": "707bfb67-d647-449c-90a1-bf7b93376db2",
   "metadata": {},
   "source": [
    "### A. External Links"
   ]
  },
  {
   "cell_type": "raw",
   "id": "e916d88c-4b8e-4b34-9a74-53b8c6317c6a",
   "metadata": {},
   "source": [
    "__[External Link](https://www.w3schools.com/python/python_syntax.asp)__"
   ]
  },
  {
   "cell_type": "markdown",
   "id": "8ce77898-9525-4493-9e04-9f4a6a4c3f49",
   "metadata": {},
   "source": [
    "__[External Link](https://www.w3schools.com/python/python_syntax.asp)__"
   ]
  },
  {
   "cell_type": "markdown",
   "id": "3e1346ee-61e4-4303-8e1d-0800c63e76c2",
   "metadata": {},
   "source": [
    "### B. Internal Links"
   ]
  },
  {
   "cell_type": "raw",
   "id": "37729602-1b8c-4e44-b3fd-64bb7140a77d",
   "metadata": {},
   "source": [
    "__[External Link](https://www.w3schools.com/python/python_syntax.asp)__"
   ]
  },
  {
   "cell_type": "markdown",
   "id": "809f0a32-ba3d-471c-aa60-34339b2bfbb6",
   "metadata": {},
   "source": [
    "[This link](#https://www.w3schools.com/python/python_syntax.asp)"
   ]
  },
  {
   "cell_type": "raw",
   "id": "ed900179-b6f9-42b5-bb33-eaf9f93a6b10",
   "metadata": {},
   "source": [
    "<a id=\"https://www.w3schools.com/python/python_syntax.asp\">Links here.</a>"
   ]
  },
  {
   "cell_type": "markdown",
   "id": "86c542c1-c165-444e-a018-3b5aaaf959e9",
   "metadata": {},
   "source": [
    "<a id=\"https://www.w3schools.com/python/python_syntax.asp\">Links here.</a>"
   ]
  },
  {
   "cell_type": "markdown",
   "id": "d96121a6-d8ac-4919-8e7b-c7d5df7f45c5",
   "metadata": {},
   "source": [
    "# 5. Images"
   ]
  },
  {
   "cell_type": "raw",
   "id": "83adb62e-09c7-4af2-ac9c-572a320652dc",
   "metadata": {},
   "source": [
    "![Alternative text](https://img.icons8.com/?size=100&id=l75OEUJkPAk4&format=png&color=000000)"
   ]
  },
  {
   "cell_type": "markdown",
   "id": "cd39ad78-caa6-43c6-9210-0382a3c4b698",
   "metadata": {},
   "source": [
    "![Alternative text](https://img.icons8.com/?size=100&id=l75OEUJkPAk4&format=png&color=000000)\n"
   ]
  },
  {
   "cell_type": "markdown",
   "id": "bc97df65-9b90-4597-a8d8-92bd60dfc14f",
   "metadata": {},
   "source": [
    "# 6. Lists"
   ]
  },
  {
   "cell_type": "markdown",
   "id": "1cb544a0-8c85-4a21-8256-4a58c3129e7c",
   "metadata": {},
   "source": [
    "### A. Ordered List"
   ]
  },
  {
   "cell_type": "raw",
   "id": "21ebc4a7-516e-4fcc-a7c9-7e695520df91",
   "metadata": {},
   "source": [
    "1. Item 1\n",
    "2. Item 2\n",
    "3. Item 3"
   ]
  },
  {
   "cell_type": "markdown",
   "id": "30f28596-7b1d-4a95-b89c-8bb7132c4c55",
   "metadata": {},
   "source": [
    "1. Item 1\n",
    "2. Item 2\n",
    "3. Item 3"
   ]
  },
  {
   "cell_type": "markdown",
   "id": "6bafac8f-54ae-4e65-886b-ace9583ee54b",
   "metadata": {},
   "source": [
    "### B. Unordered List"
   ]
  },
  {
   "cell_type": "raw",
   "id": "b5cb55f2-c763-416b-b3b4-a6d8eec58f0c",
   "metadata": {},
   "source": [
    "- Item 1\n",
    "- Item 2\n",
    "- Item 3"
   ]
  },
  {
   "cell_type": "markdown",
   "id": "dd30ac91-4b07-44bf-ab03-503298e6c46b",
   "metadata": {},
   "source": [
    "- Item 1\n",
    "- Item 2\n",
    "- Item 3"
   ]
  },
  {
   "cell_type": "markdown",
   "id": "80554f01-c61a-4f66-8c91-82649debb160",
   "metadata": {},
   "source": [
    "# 7. Emojis"
   ]
  },
  {
   "cell_type": "markdown",
   "id": "9c0ea35a-e044-44d0-b835-7c4ff7ea6303",
   "metadata": {},
   "source": [
    "😍"
   ]
  },
  {
   "cell_type": "markdown",
   "id": "77cc86d0-7934-4111-b610-c11140f19d56",
   "metadata": {},
   "source": [
    "# 8. Blockquotes"
   ]
  },
  {
   "cell_type": "raw",
   "id": "d16bcb22-e264-475d-8b9c-3521d123340a",
   "metadata": {},
   "source": [
    "> Python is a versatile, high-level, general-purpose programming language known for its readability and ease of use, widely used in web development, data science, and machine learning."
   ]
  },
  {
   "cell_type": "markdown",
   "id": "ad901c3e-3355-46de-80be-7cd977d1dc31",
   "metadata": {},
   "source": [
    "> Python is a versatile, high-level, general-purpose programming language known for its readability and ease of use, widely used in web development, data science, and machine learning."
   ]
  },
  {
   "cell_type": "markdown",
   "id": "71d49e1e-cb94-47fe-a70a-d9724204069b",
   "metadata": {},
   "source": [
    "# 9. Tables"
   ]
  },
  {
   "cell_type": "raw",
   "id": "8dd28b83-d210-4c3d-93ac-6533e3a1b6c8",
   "metadata": {},
   "source": [
    "|Username   |  Userage |\n",
    "|--------   |  ------- |\n",
    "|Ashwini    |    25    |\n",
    "|Sneha      |    24    |"
   ]
  },
  {
   "cell_type": "markdown",
   "id": "079c19cf-5711-4211-9427-48fda8c8b22f",
   "metadata": {},
   "source": [
    "|Username   |  Userage |\n",
    "|--------   |  ------- |\n",
    "|Ashwini    |    25    |\n",
    "|Sneha      |    24    |"
   ]
  },
  {
   "cell_type": "markdown",
   "id": "992c8b6e-a6e1-4de6-96c9-0bc5d45caa31",
   "metadata": {},
   "source": [
    "# 10. Colored boxes"
   ]
  },
  {
   "cell_type": "raw",
   "id": "e2de271a-6e7e-4d11-84a3-636d3f50db22",
   "metadata": {},
   "source": [
    "<div class=\"alert alert-block alert-info\">\n",
    "<b>Tip:</b> Remember to back up your data frequently!</div>"
   ]
  },
  {
   "cell_type": "markdown",
   "id": "1f416cd6-5fe0-4186-9700-172cea2eb750",
   "metadata": {},
   "source": [
    "<div class=\"alert alert-block alert-info\">\n",
    "<b>Tip:</b> Remember to back up your data frequently!</div>"
   ]
  },
  {
   "cell_type": "raw",
   "id": "a3e4713f-d339-4555-b610-6081d5986e3e",
   "metadata": {},
   "source": [
    "<div class=\"alert alert-block alert-warning\">\n",
    "<b>Example:</b> Use yellow boxes for examples or for mathematical formulas.</div>"
   ]
  },
  {
   "cell_type": "markdown",
   "id": "b7c8caa3-a755-493a-8770-7eb8f821176a",
   "metadata": {},
   "source": [
    "<div class=\"alert alert-block alert-warning\">\n",
    "<b>Example:</b> Use yellow boxes for examples or for mathematical formulas.\n",
    "</div>"
   ]
  },
  {
   "cell_type": "raw",
   "id": "73999b0c-2004-4130-9c02-3b807e6875c9",
   "metadata": {},
   "source": [
    "<div class=\"alert alert-block alert-success\">\n",
    "<b>Success:</b> Your operation completed successfully!</div>"
   ]
  },
  {
   "cell_type": "markdown",
   "id": "87448f30-7a5f-4384-866d-9452f2c28ac3",
   "metadata": {},
   "source": [
    "<div class=\"alert alert-block alert-success\">\n",
    "<b>Success:</b> Your operation completed successfully!</div>"
   ]
  },
  {
   "cell_type": "raw",
   "id": "831712cd-99f0-4437-8609-1d85217dac19",
   "metadata": {},
   "source": [
    "<div class=\"alert alert-block alert-danger\">\n",
    "<b>Danger:</b> Deleting this file is irreversible. Proceed with caution.\n",
    "</div>"
   ]
  },
  {
   "cell_type": "markdown",
   "id": "1a7c7882-0c73-47d5-b1df-071ea306899d",
   "metadata": {},
   "source": [
    "<div class=\"alert alert-block alert-danger\">\n",
    "<b>Danger:</b> Deleting this file is irreversible. Proceed with caution.\n",
    "</div>"
   ]
  },
  {
   "cell_type": "markdown",
   "id": "bb11b2d3-5651-4cec-a1bb-0d8125aad4ff",
   "metadata": {},
   "source": [
    "# 11. Cell background color"
   ]
  },
  {
   "cell_type": "raw",
   "id": "b3aae6b9-efeb-4609-ba66-c9d80c5a0c57",
   "metadata": {},
   "source": [
    "<code style=\"background:red;color:white\">Jupyter Notebook</code>"
   ]
  },
  {
   "cell_type": "markdown",
   "id": "4008a0f5-933d-406e-9f0e-6c7e4decce97",
   "metadata": {},
   "source": [
    "<code style=\"background:red;color:white\">Jupyter Notebook</code>"
   ]
  },
  {
   "cell_type": "markdown",
   "id": "0e9c9023-3fe0-4315-853d-ac310e5d338f",
   "metadata": {},
   "source": [
    "# 12. Text lists"
   ]
  },
  {
   "cell_type": "raw",
   "id": "9c7b47b1-64ab-41cd-96e4-009b9c306237",
   "metadata": {},
   "source": [
    "- [ ] Wake up\n",
    "- [x] Drink Coffee\n",
    "- [x] Walking"
   ]
  },
  {
   "cell_type": "markdown",
   "id": "16094cde-1710-481f-8d9d-6c2f70391865",
   "metadata": {},
   "source": [
    "- [ ] Wake up\n",
    "- [x] Drink Coffee\n",
    "- [x] Walking\n"
   ]
  },
  {
   "cell_type": "markdown",
   "id": "7b0f43b2-c183-4d24-9997-2ac18763ab4c",
   "metadata": {},
   "source": [
    "# 13. Horizontal rule"
   ]
  },
  {
   "cell_type": "raw",
   "id": "01086550-6731-4a76-bf04-52274cb6a666",
   "metadata": {},
   "source": [
    "***  0r   ___  or  ---"
   ]
  },
  {
   "cell_type": "markdown",
   "id": "c4639ea4-725a-4c46-af1a-18c464a25b2f",
   "metadata": {},
   "source": [
    "***"
   ]
  },
  {
   "cell_type": "markdown",
   "id": "83170f1e-66f4-47cb-8d6d-dc7855cadf62",
   "metadata": {},
   "source": [
    "# 14. Line Breaks"
   ]
  },
  {
   "cell_type": "raw",
   "id": "10cb4020-4331-4352-ae52-79184cd2d308",
   "metadata": {},
   "source": [
    "Hello everyone <br />\n",
    "My name is Ashwini."
   ]
  },
  {
   "cell_type": "markdown",
   "id": "f6b73250-3b66-44cd-b39b-aad86a234eef",
   "metadata": {},
   "source": [
    "Hello everyone <br /> My name is Ashwini.\n",
    "\n"
   ]
  },
  {
   "cell_type": "markdown",
   "id": "1cc2461c-36bc-475e-8a70-8ffe0356a4d2",
   "metadata": {},
   "source": [
    "# 15. Text styling"
   ]
  },
  {
   "cell_type": "raw",
   "id": "fe758734-6fe5-4b49-8f66-7d7c8bbad128",
   "metadata": {},
   "source": [
    "<span style=\"font-family:Comic Sans MS; color:purple\">Ashwini Bagde</span>"
   ]
  },
  {
   "cell_type": "markdown",
   "id": "ca18bc87-a6cd-468f-9126-1fbeb64b10b2",
   "metadata": {},
   "source": [
    "<span style=\"font-family:Comic Sans MS; color:purple\">Ashwini Bagde</span>"
   ]
  },
  {
   "cell_type": "markdown",
   "id": "eeaf0b0e-c7b1-4015-a0eb-84e9dbdf533c",
   "metadata": {},
   "source": [
    "# 16. Code"
   ]
  },
  {
   "cell_type": "raw",
   "id": "549b269a-3097-4ce6-abf8-0b5b37019c7f",
   "metadata": {},
   "source": [
    "<code> <a>Example of code</a> </code>"
   ]
  },
  {
   "cell_type": "markdown",
   "id": "c54643b0-c344-40b2-95e9-6d05e63c0d08",
   "metadata": {},
   "source": [
    "<code> <a>Example of code</a> </code>"
   ]
  },
  {
   "cell_type": "markdown",
   "id": "01225f1c-fb88-4764-82d6-0eee2cb1839e",
   "metadata": {},
   "source": [
    "# 17. Geometric shapes"
   ]
  },
  {
   "cell_type": "raw",
   "id": "4ca2f040-03d0-4087-9371-a98a03bd66c5",
   "metadata": {},
   "source": [
    "&#9645; - WHITE RECTANGLE  |  &#9648; - BLACK PARALLELOGRAM  |  &#9636; - SQUARE WITH HORIZONTAL FILL"
   ]
  },
  {
   "cell_type": "markdown",
   "id": "6853d7f9-3535-42a5-b061-93f3cd03093e",
   "metadata": {},
   "source": [
    "&#9645; - WHITE RECTANGLE  |  &#9648; - BLACK PARALLELOGRAM  |  &#9636; - SQUARE WITH HORIZONTAL FILL"
   ]
  },
  {
   "cell_type": "markdown",
   "id": "0b508cf0-a36a-4818-9799-24a4522fd1be",
   "metadata": {},
   "source": [
    "# 18. Fenced Code Blocks"
   ]
  },
  {
   "cell_type": "raw",
   "id": "39ec70d3-84a7-4664-8575-fafe3e3d27e0",
   "metadata": {},
   "source": [
    "```\n",
    "{\n",
    "  \"firstName\": \"John\",\n",
    "  \"lastName\": \"Smith\",\n",
    "  \"age\": 25\n",
    "}\n",
    "```"
   ]
  },
  {
   "cell_type": "markdown",
   "id": "aca7c21b-870f-429a-a351-67fe56249333",
   "metadata": {},
   "source": [
    "```\n",
    "{\n",
    "  \"firstName\": \"John\",\n",
    "  \"lastName\": \"Smith\",\n",
    "  \"age\": 25\n",
    "}\n",
    "```"
   ]
  },
  {
   "cell_type": "markdown",
   "id": "d1ba6f9f-4073-4dd9-bb58-e6e43622a65d",
   "metadata": {},
   "source": [
    "# 19. Highlight"
   ]
  },
  {
   "cell_type": "raw",
   "id": "13328627-8f5b-4be8-aacf-76735b182d90",
   "metadata": {},
   "source": [
    "You are the only one who can make your <mark>dreams come true.</mark>"
   ]
  },
  {
   "cell_type": "markdown",
   "id": "0494e929-4ba8-4a72-8c51-dcadecebaadf",
   "metadata": {},
   "source": [
    "You are the only one who can make your <mark>dreams come true.</mark>"
   ]
  },
  {
   "cell_type": "markdown",
   "id": "75254157-deac-410c-b605-10d46c326d21",
   "metadata": {},
   "source": [
    "# 20. Subscript and Superscript"
   ]
  },
  {
   "cell_type": "markdown",
   "id": "c0195924-5f1d-48f6-949e-851943b58850",
   "metadata": {},
   "source": [
    "H<sub>2</sub>O"
   ]
  },
  {
   "cell_type": "markdown",
   "id": "129f11f6-7fcd-46b1-beaa-0879d84a4e04",
   "metadata": {},
   "source": [
    "H<sub>2</sub>O - subscript"
   ]
  },
  {
   "cell_type": "raw",
   "id": "17a94ce2-90d3-442c-b7c6-b0847d4d3edf",
   "metadata": {},
   "source": [
    "X<sup>2</sup>"
   ]
  },
  {
   "cell_type": "markdown",
   "id": "7e473651-097d-4867-ad8c-0627e64a9fea",
   "metadata": {},
   "source": [
    "X<sup>2</sup> - superscript"
   ]
  },
  {
   "cell_type": "code",
   "execution_count": null,
   "id": "177a77f9-0fab-4866-905a-621a7a7e2a30",
   "metadata": {},
   "outputs": [],
   "source": []
  }
 ],
 "metadata": {
  "kernelspec": {
   "display_name": "Python [conda env:base] *",
   "language": "python",
   "name": "conda-base-py"
  },
  "language_info": {
   "codemirror_mode": {
    "name": "ipython",
    "version": 3
   },
   "file_extension": ".py",
   "mimetype": "text/x-python",
   "name": "python",
   "nbconvert_exporter": "python",
   "pygments_lexer": "ipython3",
   "version": "3.12.7"
  }
 },
 "nbformat": 4,
 "nbformat_minor": 5
}
